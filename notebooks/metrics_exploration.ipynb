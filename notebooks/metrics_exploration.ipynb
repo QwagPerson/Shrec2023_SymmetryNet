{
 "cells": [
  {
   "cell_type": "code",
   "execution_count": 1,
   "id": "initial_id",
   "metadata": {
    "collapsed": true,
    "ExecuteTime": {
     "end_time": "2023-12-23T22:33:31.648186014Z",
     "start_time": "2023-12-23T22:33:29.982771708Z"
    }
   },
   "source": [
    "import pandas as pd\n",
    "import matplotlib.pyplot as plt\n",
    "import numpy as np"
   ],
   "outputs": []
  },
  {
   "cell_type": "code",
   "execution_count": 14,
   "source": [
    "metrics = pd.read_csv(\"../modelos_interesantes/center_n_normals_net/version_0/metrics.csv\")"
   ],
   "metadata": {
    "collapsed": false,
    "ExecuteTime": {
     "end_time": "2023-12-23T23:58:22.667131390Z",
     "start_time": "2023-12-23T23:58:22.641232311Z"
    }
   },
   "id": "2eab2b65169a7d30",
   "outputs": []
  },
  {
   "cell_type": "code",
   "execution_count": 15,
   "source": [
    "x1 = metrics.step.values\n",
    "y1 = metrics.train_loss_step.values\n",
    "tmp = metrics[[\"step\", \"train_loss_epoch\"]].dropna()\n",
    "x2 = tmp.step.values\n",
    "y2 = tmp.train_loss_epoch.values"
   ],
   "metadata": {
    "collapsed": false,
    "ExecuteTime": {
     "end_time": "2023-12-23T23:58:23.157338333Z",
     "start_time": "2023-12-23T23:58:23.123925151Z"
    }
   },
   "id": "224f3caeb2604401",
   "outputs": []
  },
  {
   "cell_type": "code",
   "execution_count": 16,
   "source": [
    "# Create a line plot with transparency\n",
    "plt.plot(x1, y1, label='Función de perdida por paso', alpha=0.3)\n",
    "plt.plot(x2, y2, label='Función de perdida por época', alpha=1, marker='+',)\n",
    "plt.legend()\n",
    "plt.xlabel('Paso de optimización')\n",
    "plt.ylabel('Perdida')\n",
    "plt.title('Progresión de la función de perdida')\n",
    "plt.savefig('loss-progresion.svg')\n",
    "plt.show()"
   ],
   "metadata": {
    "collapsed": false,
    "ExecuteTime": {
     "end_time": "2023-12-23T23:58:24.063469726Z",
     "start_time": "2023-12-23T23:58:23.594622902Z"
    }
   },
   "id": "9ec923707a3a54e1",
   "outputs": []
  },
  {
   "cell_type": "code",
   "execution_count": 61,
   "source": [
    "idx = np.linspace(0.0, 1.0, 11)\n",
    "idx "
   ],
   "metadata": {
    "collapsed": false,
    "ExecuteTime": {
     "end_time": "2023-12-23T00:53:57.743751511Z",
     "start_time": "2023-12-23T00:53:57.702634534Z"
    }
   },
   "id": "aaefcf0e3a6d2049",
   "outputs": []
  },
  {
   "cell_type": "code",
   "execution_count": 89,
   "source": [
    "# PR Curve per transformation\n",
    "clean = np.array([\n",
    "  0.8059457680284977,\n",
    "  0.802634921580553,\n",
    "  0.7889158742229144,\n",
    "  0.7814788374503454,\n",
    "  0.7590059431393942,\n",
    "  0.7574333885808786,\n",
    "  0.7565929123957952,\n",
    "  0.7564595790704092,\n",
    "  0.7564595790704092,\n",
    "  0.7564595790704092,\n",
    "  0.7564595790704092,\n",
    "])\n",
    "\n",
    "uniform_noise = np.array([\n",
    "  0.8093489427566528,\n",
    "  0.8059640222390493,\n",
    "  0.790429414610068,\n",
    "  0.7822043306777875,\n",
    "  0.764354307666421,\n",
    "  0.7634306745578845,\n",
    "  0.7609203570733468,\n",
    "  0.7588939284135898,\n",
    "  0.7588939284135898,\n",
    "  0.7580912693192562,\n",
    "  0.7580912693192562,\n",
    "])\n",
    "\n",
    "gaussian_noise = np.array([\n",
    "  0.817941535299023,\n",
    "  0.8119005303233862,\n",
    "  0.8005066151767969,\n",
    "  0.7905568800667921,\n",
    "  0.7716092299520969,\n",
    "  0.7702295824786027,\n",
    "  0.7695073602398237,\n",
    "  0.7684021990199884,\n",
    "  0.7684021990199884,\n",
    "  0.7673701002399127,\n",
    "  0.7673701002399127,\n",
    "])\n",
    "\n",
    "undersampling = np.array([\n",
    "  0.8133320114960273,\n",
    "  0.809617725883921,\n",
    "  0.7948506025026242,\n",
    "  0.7870857879420121,\n",
    "  0.7699610654612382,\n",
    "  0.7690573618213336,\n",
    "  0.7679097748299439,\n",
    "  0.7676431081791719,\n",
    "  0.7676431081791719,\n",
    "  0.7676431081791719,\n",
    "  0.7676431081791719,\n",
    "])\n",
    "\n",
    "uniform_n_undersampling = np.array([\n",
    "  0.8011309535106023,\n",
    "  0.7948187844355901,\n",
    "  0.7798568799446026,\n",
    "  0.7702497170815865,\n",
    "  0.7527347045888504,\n",
    "  0.7519179940521717,\n",
    "  0.7514703750113646,\n",
    "  0.7511370416780313,\n",
    "  0.7509465654989084,\n",
    "  0.7502255778312683,\n",
    "  0.7502255778312683,\n",
    "])\n",
    "\n",
    "gaussian_n_undersampling = np.array([\n",
    "  0.8125931224773327,\n",
    "  0.806716138496995,\n",
    "  0.7948050516098738,\n",
    "  0.7884061099638542,\n",
    "  0.7680213452279567,\n",
    "  0.7664620055158933,\n",
    "  0.7655715293288231,\n",
    "  0.764187903612852,\n",
    "  0.7640926655232906,\n",
    "  0.7640926655232906,\n",
    "  0.7640926655232906,\n",
    "])\n",
    "all = np.array([\n",
    "  0.8100487222613559,\n",
    "  0.8052753538265824,\n",
    "  0.7915607396778133,\n",
    "  0.7833302771970629,\n",
    "  0.7642810993393262,\n",
    "  0.763088501167794,\n",
    "  0.7619953848131829,\n",
    "  0.7611206266623405,\n",
    "  0.7610730076175597,\n",
    "  0.7606470500272181,\n",
    "  0.7606470500272181,\n",
    "])"
   ],
   "metadata": {
    "collapsed": false,
    "ExecuteTime": {
     "end_time": "2023-12-23T01:05:53.141326498Z",
     "start_time": "2023-12-23T01:05:53.089916438Z"
    }
   },
   "id": "a999b01b0eb5b78b",
   "outputs": []
  },
  {
   "cell_type": "code",
   "execution_count": 92,
   "source": [
    "# Create a line plot with transparency\n",
    "plt.plot(idx, clean, label='P0', alpha=0.5)\n",
    "plt.plot(idx, uniform_noise, label='P1', alpha=0.5)\n",
    "plt.plot(idx, gaussian_noise, label='P2', alpha=0.5)\n",
    "plt.plot(idx, undersampling, label='P3', alpha=0.5)\n",
    "plt.plot(idx, uniform_n_undersampling, label='P4', alpha=0.5)\n",
    "plt.plot(idx, gaussian_n_undersampling, label='P5', alpha=0.5)\n",
    "plt.plot(idx, all, label='all', alpha=1, c=\"black\")\n",
    "plt.ylim(0, 1)\n",
    "plt.legend()\n",
    "plt.show()"
   ],
   "metadata": {
    "collapsed": false,
    "ExecuteTime": {
     "end_time": "2023-12-23T01:06:16.494852067Z",
     "start_time": "2023-12-23T01:06:16.266723519Z"
    }
   },
   "id": "c91e1b08bd3d56cf",
   "outputs": []
  },
  {
   "cell_type": "code",
   "execution_count": 93,
   "source": [
    "m_convexities = np.array([\n",
    "  0.48773371019491235,\n",
    "  0.48773371019491235,\n",
    "  0.4356685278446399,\n",
    "  0.3995974488797925,\n",
    "  0.3969829957669017,\n",
    "  0.3947448420368525,\n",
    "  0.39360109644811153,\n",
    "  0.3928994680394853,\n",
    "  0.39254321583414314,\n",
    "  0.39254321583414314,\n",
    "  0.39254321583414314,\n",
    "])\n",
    "\n",
    "mouth_curve  = np.array([\n",
    "  0.999211356466877,\n",
    "  0.999211356466877,\n",
    "  0.999211356466877,\n",
    "  0.999211356466877,\n",
    "  0.9334910659571928,\n",
    "  0.9334910659571928,\n",
    "  0.9334910659571928,\n",
    "  0.9334910659571928,\n",
    "  0.9334910659571928,\n",
    "  0.9334910659571928,\n",
    "  0.9334910659571928,\n",
    "])\n",
    "\n",
    "egg_keplero  = np.array([\n",
    "  0.8058823529411765,\n",
    "  0.8058823529411765,\n",
    "  0.8058823529411765,\n",
    "  0.8058823529411765,\n",
    "  0.8058823529411765,\n",
    "  0.8058823529411765,\n",
    "  0.8058823529411765,\n",
    "  0.8058823529411765,\n",
    "  0.8058823529411765,\n",
    "  0.8058823529411765,\n",
    "  0.8058823529411765,\n",
    "])\n",
    "\n",
    "lemniscate  = np.array([\n",
    "  0.9984484096198604,\n",
    "  0.9984484096198604,\n",
    "  0.9984484096198604,\n",
    "  0.9984484096198604,\n",
    "  0.9881044743688093,\n",
    "  0.9881044743688093,\n",
    "  0.9881044743688093,\n",
    "  0.9881044743688093,\n",
    "  0.9881044743688093,\n",
    "  0.9881044743688093,\n",
    "  0.9881044743688093,\n",
    "])\n",
    "\n",
    "citrus  = np.array([\n",
    "  0.9960317461538242,\n",
    "  0.9960317461538242,\n",
    "  0.9960317461538242,\n",
    "  0.9960317461538242,\n",
    "  0.9448952590345695,\n",
    "  0.9448952590345695,\n",
    "  0.9448952590345695,\n",
    "  0.943508574953689,\n",
    "  0.943508574953689,\n",
    "  0.943508574953689,\n",
    "  0.943508574953689,\n",
    "])\n",
    "\n",
    "astroid = np.array([\n",
    "  0.7703942390804132,\n",
    "  0.7703942390804132,\n",
    "  0.7703942390804132,\n",
    "  0.768353065762491,\n",
    "  0.768353065762491,\n",
    "  0.7660083981842323,\n",
    "  0.760511809859744,\n",
    "  0.7584537887964129,\n",
    "  0.7584537887964129,\n",
    "  0.7555473306363871,\n",
    "  0.7555473306363871,\n",
    "])\n",
    "\n",
    "geometric_petal = np.array([\n",
    "  0.6020918989199258,\n",
    "  0.570127378151353,\n",
    "  0.5248914309999063,\n",
    "  0.5040667682575682,\n",
    "  0.500308549142487,\n",
    "  0.49662680206598625,\n",
    "  0.49572492613723235,\n",
    "  0.49385828035883605,\n",
    "  0.49385828035883605,\n",
    "  0.49385828035883605,\n",
    "  0.49385828035883605,\n",
    "])"
   ],
   "metadata": {
    "collapsed": false,
    "ExecuteTime": {
     "end_time": "2023-12-23T01:10:14.979325009Z",
     "start_time": "2023-12-23T01:10:14.936616667Z"
    }
   },
   "id": "b16b898cf23ce5b8",
   "outputs": []
  },
  {
   "cell_type": "code",
   "execution_count": 95,
   "source": [
    "# Create a line plot with transparency\n",
    "plt.plot(idx, m_convexities, label='S0', alpha=0.5)\n",
    "plt.plot(idx, mouth_curve, label='S1', alpha=0.5)\n",
    "plt.plot(idx, egg_keplero, label='S2', alpha=0.5)\n",
    "plt.plot(idx, lemniscate, label='S3', alpha=0.5)\n",
    "plt.plot(idx, citrus, label='S4', alpha=0.5)\n",
    "plt.plot(idx, astroid, label='S5', alpha=0.5)\n",
    "plt.plot(idx, geometric_petal, label='S6', alpha=0.5)\n",
    "plt.plot(idx, all, label='all', alpha=1, c=\"black\")\n",
    "plt.ylim(0, 1.1)\n",
    "plt.legend()\n",
    "plt.show()"
   ],
   "metadata": {
    "collapsed": false,
    "ExecuteTime": {
     "end_time": "2023-12-23T01:11:20.564221570Z",
     "start_time": "2023-12-23T01:11:20.277818830Z"
    }
   },
   "id": "c5dc2a299b1687c3",
   "outputs": []
  },
  {
   "cell_type": "code",
   "execution_count": 2,
   "source": [
    "x = np.array([1, 2, 3, 4, 5])\n",
    "m_convexities = np.array([\n",
    "  0.422139410565708,\t0.629452341489131,\t0.777776310614953,\t0.871267446983340,\t0.918514323654986\n",
    "])\n",
    "geometric_petal = np.array([\n",
    "  0.509016923050374,\t0.717524710933827,\t0.850437481118797,\t0.909801355184783,\t0.941460191674365\n",
    "])\n",
    "all = np.array([\n",
    "  0.773947979455055,\t0.876695704470378,\t0.931546863846374,\t0.961448870304323,\t0.975359409174364\n",
    "])"
   ],
   "metadata": {
    "collapsed": false,
    "ExecuteTime": {
     "end_time": "2023-12-23T22:35:59.518082462Z",
     "start_time": "2023-12-23T22:35:59.491631744Z"
    }
   },
   "id": "7a16b03a6784ddf8",
   "outputs": []
  },
  {
   "cell_type": "code",
   "execution_count": 11,
   "source": [
    "# Create a line plot with transparency\n",
    "plt.plot(x, m_convexities, label='M Convexities', marker=\"x\")\n",
    "plt.plot(x, geometric_petal, label='Geometric petal', marker=\"x\")\n",
    "plt.plot(x, all, label='Dataset Completo', alpha=1, c=\"black\", marker=\"x\")\n",
    "plt.ylim(0, 1.0)\n",
    "plt.xlabel(r'$\\theta$')\n",
    "plt.ylabel('MAP')\n",
    "plt.xticks(x)\n",
    "plt.title('Variación MAP obtenido según tolerancia de ángulo para las normales')\n",
    "plt.legend()\n",
    "plt.savefig('map-variacion-symnet.svg')\n",
    "plt.show()"
   ],
   "metadata": {
    "collapsed": false,
    "ExecuteTime": {
     "end_time": "2023-12-23T22:50:02.025941218Z",
     "start_time": "2023-12-23T22:50:00.553351248Z"
    }
   },
   "id": "74a8ddc6b2f430ce",
   "outputs": []
  }
 ],
 "metadata": {
  "kernelspec": {
   "display_name": "Python 3",
   "language": "python",
   "name": "python3"
  },
  "language_info": {
   "codemirror_mode": {
    "name": "ipython",
    "version": 2
   },
   "file_extension": ".py",
   "mimetype": "text/x-python",
   "name": "python",
   "nbconvert_exporter": "python",
   "pygments_lexer": "ipython2",
   "version": "2.7.6"
  }
 },
 "nbformat": 4,
 "nbformat_minor": 5
}
